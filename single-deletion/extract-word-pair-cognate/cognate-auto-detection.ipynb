{
 "cells": [
  {
   "cell_type": "code",
   "execution_count": 1,
   "metadata": {},
   "outputs": [],
   "source": [
    "from lingpy import *\n",
    "import pandas as pd\n",
    "import numpy as np"
   ]
  },
  {
   "cell_type": "code",
   "execution_count": 2,
   "metadata": {},
   "outputs": [],
   "source": [
    "file_names = [\"french_cognate.txt\", \"italian_cognate.txt\", \"portuguese_cognate.txt\", \"spanish_cognate.txt\"]"
   ]
  },
  {
   "cell_type": "code",
   "execution_count": 3,
   "metadata": {},
   "outputs": [],
   "source": [
    "models = [\"asjp\", \"sca\", \"dolgo\"]"
   ]
  },
  {
   "cell_type": "code",
   "execution_count": 4,
   "metadata": {},
   "outputs": [],
   "source": [
    "def loadFile2Df(file_name):\n",
    "    data = pd.read_csv(file_name, sep=\"____\", header=None, engine='python')\n",
    "    data.columns = [\"w1\", \"w2\", \"cognate\"]\n",
    "    return pd.DataFrame(data)"
   ]
  },
  {
   "cell_type": "code",
   "execution_count": 5,
   "metadata": {},
   "outputs": [],
   "source": [
    "def detectCognate(df, lingpy_model=\"dolgo\"):\n",
    "    total_row = len(df.index)\n",
    "    total_correct = 0\n",
    "    for index, row in df.iterrows():\n",
    "        cognate_pred = \"cognates\" if turchin(row['w1'], row['w2'], lingpy_model) == 0 else \"non_cognates\"\n",
    "        correctness = (cognate_pred == row[\"cognate\"])\n",
    "        if correctness:\n",
    "            total_correct = total_correct + 1\n",
    "#             print(\"Correct: \", row[\"w1\"], row[\"w2\"], row[\"cognate\"], cognate_pred)\n",
    "#         else:\n",
    "#             print(\"NOT Correct: \", row[\"w1\"], row[\"w2\"], row[\"cognate\"], cognate_pred)\n",
    "    return total_correct/total_row"
   ]
  },
  {
   "cell_type": "code",
   "execution_count": 6,
   "metadata": {},
   "outputs": [
    {
     "name": "stdout",
     "output_type": "stream",
     "text": [
      "Model: asjp\n",
      "french_cognate.txt 0.77375\n",
      "italian_cognate.txt 0.68875\n",
      "portuguese_cognate.txt 0.65375\n",
      "spanish_cognate.txt 0.77125\n",
      "Model: sca\n",
      "french_cognate.txt 0.7875\n",
      "italian_cognate.txt 0.69125\n",
      "portuguese_cognate.txt 0.66125\n",
      "spanish_cognate.txt 0.78\n",
      "Model: dolgo\n",
      "french_cognate.txt 0.78875\n",
      "italian_cognate.txt 0.6925\n",
      "portuguese_cognate.txt 0.6625\n",
      "spanish_cognate.txt 0.77625\n"
     ]
    }
   ],
   "source": [
    "for model in models:\n",
    "    print(\"Model:\", model)\n",
    "    for file_name in file_names:\n",
    "        df = loadFile2Df(file_name)\n",
    "        acc = detectCognate(df, model)\n",
    "        print(file_name, acc)"
   ]
  },
  {
   "cell_type": "code",
   "execution_count": null,
   "metadata": {},
   "outputs": [],
   "source": []
  }
 ],
 "metadata": {
  "kernelspec": {
   "display_name": "Python 3",
   "language": "python",
   "name": "python3"
  },
  "language_info": {
   "codemirror_mode": {
    "name": "ipython",
    "version": 3
   },
   "file_extension": ".py",
   "mimetype": "text/x-python",
   "name": "python",
   "nbconvert_exporter": "python",
   "pygments_lexer": "ipython3",
   "version": "3.6.4"
  }
 },
 "nbformat": 4,
 "nbformat_minor": 2
}
